{
  "cells": [
    {
      "cell_type": "markdown",
      "source": [
        "# **Base Circuit**"
      ],
      "metadata": {
        "id": "z3PfskuLSLMO"
      },
      "id": "z3PfskuLSLMO"
    },
    {
      "cell_type": "code",
      "metadata": {
        "id": "NOQIWRacv-y3",
        "colab": {
          "base_uri": "https://localhost:8080/"
        },
        "outputId": "4ce3447c-866b-4f49-a689-25a9a893c429"
      },
      "source": [
        "!pip install qiskit --quiet\n",
        "!pip install qiskit-aer --quiet\n",
        "\n",
        "# Base Circuit: Single Qubit Gate Sequence\n",
        "from qiskit import QuantumCircuit, transpile\n",
        "from qiskit_aer import AerSimulator\n",
        "\n",
        "# Initialize simulator\n",
        "sim = AerSimulator()\n",
        "\n",
        "# Create a single-qubit circuit with one classical bit\n",
        "qc = QuantumCircuit(1, 1)\n",
        "\n",
        "# Apply gates: X → H → S → T → RZ(0.5)\n",
        "qc.x(0)\n",
        "qc.h(0)\n",
        "qc.s(0)\n",
        "qc.t(0)\n",
        "qc.rz(0.5, 0)\n",
        "\n",
        "# Measure\n",
        "qc.measure_all()\n",
        "\n",
        "# Display circuit\n",
        "print(\"Quantum Circuit:\")\n",
        "print(qc.draw())\n",
        "\n",
        "# Run simulation\n",
        "compiled = transpile(qc, sim)\n",
        "result = sim.run(compiled, shots=1024).result()\n",
        "counts = result.get_counts()\n",
        "\n",
        "# Show result\n",
        "print(\"\\nMeasurement Counts:\", counts)\n"
      ],
      "execution_count": 1,
      "outputs": [
        {
          "output_type": "stream",
          "name": "stdout",
          "text": [
            "\u001b[2K   \u001b[90m━━━━━━━━━━━━━━━━━━━━━━━━━━━━━━━━━━━━━━━━\u001b[0m \u001b[32m8.0/8.0 MB\u001b[0m \u001b[31m53.3 MB/s\u001b[0m eta \u001b[36m0:00:00\u001b[0m\n",
            "\u001b[2K   \u001b[90m━━━━━━━━━━━━━━━━━━━━━━━━━━━━━━━━━━━━━━━━\u001b[0m \u001b[32m2.2/2.2 MB\u001b[0m \u001b[31m48.8 MB/s\u001b[0m eta \u001b[36m0:00:00\u001b[0m\n",
            "\u001b[2K   \u001b[90m━━━━━━━━━━━━━━━━━━━━━━━━━━━━━━━━━━━━━━━━\u001b[0m \u001b[32m49.5/49.5 kB\u001b[0m \u001b[31m1.5 MB/s\u001b[0m eta \u001b[36m0:00:00\u001b[0m\n",
            "\u001b[2K   \u001b[90m━━━━━━━━━━━━━━━━━━━━━━━━━━━━━━━━━━━━━━━━\u001b[0m \u001b[32m12.4/12.4 MB\u001b[0m \u001b[31m110.6 MB/s\u001b[0m eta \u001b[36m0:00:00\u001b[0m\n",
            "\u001b[?25hQuantum Circuit:\n",
            "        ┌───┐┌───┐┌───┐┌───┐┌─────────┐ ░ ┌─┐\n",
            "     q: ┤ X ├┤ H ├┤ S ├┤ T ├┤ Rz(0.5) ├─░─┤M├\n",
            "        └───┘└───┘└───┘└───┘└─────────┘ ░ └╥┘\n",
            "   c: 1/═══════════════════════════════════╬═\n",
            "                                           ║ \n",
            "meas: 1/═══════════════════════════════════╩═\n",
            "                                           0 \n",
            "\n",
            "Measurement Counts: {'0 0': 554, '1 0': 470}\n"
          ]
        }
      ],
      "id": "NOQIWRacv-y3"
    },
    {
      "cell_type": "markdown",
      "metadata": {
        "id": "B_QEU5O6v-y4"
      },
      "source": [
        "# **Task 1: Change Gate Order**\n",
        "\n"
      ],
      "id": "B_QEU5O6v-y4"
    },
    {
      "cell_type": "code",
      "metadata": {
        "id": "mPhcfNBxv-y5",
        "colab": {
          "base_uri": "https://localhost:8080/"
        },
        "outputId": "92b23496-4a64-42fa-e8d7-f9ec28f5c784"
      },
      "source": [
        "from qiskit import QuantumCircuit, transpile\n",
        "from qiskit_aer import AerSimulator\n",
        "\n",
        "sim = AerSimulator()\n",
        "qc = QuantumCircuit(1, 1)\n",
        "\n",
        "# Swapped order: H → X → S → T → RZ(0.5)\n",
        "qc.h(0)\n",
        "qc.x(0)\n",
        "qc.s(0)\n",
        "qc.t(0)\n",
        "qc.rz(0.5, 0)\n",
        "\n",
        "qc.measure_all()\n",
        "\n",
        "print(\"Quantum Circuit (H then X):\")\n",
        "print(qc.draw())\n",
        "\n",
        "compiled = transpile(qc, sim)\n",
        "result = sim.run(compiled, shots=1024).result()\n",
        "counts = result.get_counts()\n",
        "\n",
        "print(\"\\nMeasurement Counts:\", counts)\n"
      ],
      "execution_count": 2,
      "outputs": [
        {
          "output_type": "stream",
          "name": "stdout",
          "text": [
            "Quantum Circuit (H then X):\n",
            "        ┌───┐┌───┐┌───┐┌───┐┌─────────┐ ░ ┌─┐\n",
            "     q: ┤ H ├┤ X ├┤ S ├┤ T ├┤ Rz(0.5) ├─░─┤M├\n",
            "        └───┘└───┘└───┘└───┘└─────────┘ ░ └╥┘\n",
            "   c: 1/═══════════════════════════════════╬═\n",
            "                                           ║ \n",
            "meas: 1/═══════════════════════════════════╩═\n",
            "                                           0 \n",
            "\n",
            "Measurement Counts: {'0 0': 511, '1 0': 513}\n"
          ]
        }
      ],
      "id": "mPhcfNBxv-y5"
    },
    {
      "cell_type": "markdown",
      "source": [
        "# **Task 2: Vary Rotation Angle**"
      ],
      "metadata": {
        "id": "eQ-x5QvwKge2"
      },
      "id": "eQ-x5QvwKge2"
    },
    {
      "cell_type": "code",
      "source": [
        "import math\n",
        "from qiskit import QuantumCircuit, transpile\n",
        "from qiskit_aer import AerSimulator\n",
        "\n",
        "sim = AerSimulator()\n",
        "\n",
        "for theta in [math.pi/4, math.pi/2, math.pi]:\n",
        "    qc = QuantumCircuit(1, 1)\n",
        "    qc.x(0)\n",
        "    qc.h(0)\n",
        "    qc.s(0)\n",
        "    qc.t(0)\n",
        "    qc.rz(theta, 0)\n",
        "    qc.measure_all()\n",
        "\n",
        "    compiled = transpile(qc, sim)\n",
        "    result = sim.run(compiled, shots=1024).result()\n",
        "    counts = result.get_counts()\n",
        "\n",
        "    print(f\"\\nRotation Angle θ = {theta:.2f} radians\")\n",
        "    print(\"Measurement Counts:\", counts)\n"
      ],
      "metadata": {
        "colab": {
          "base_uri": "https://localhost:8080/"
        },
        "id": "HdE3TwqCKjQg",
        "outputId": "553a974f-6bbb-43d5-8362-9e8c08c5e1e8"
      },
      "id": "HdE3TwqCKjQg",
      "execution_count": 3,
      "outputs": [
        {
          "output_type": "stream",
          "name": "stdout",
          "text": [
            "\n",
            "Rotation Angle θ = 0.79 radians\n",
            "Measurement Counts: {'1 0': 528, '0 0': 496}\n",
            "\n",
            "Rotation Angle θ = 1.57 radians\n",
            "Measurement Counts: {'1 0': 490, '0 0': 534}\n",
            "\n",
            "Rotation Angle θ = 3.14 radians\n",
            "Measurement Counts: {'1 0': 511, '0 0': 513}\n"
          ]
        }
      ]
    },
    {
      "cell_type": "markdown",
      "source": [
        "# **Task 3: Remove a Gate (Hadamard)**"
      ],
      "metadata": {
        "id": "NlrXB8uCKqOz"
      },
      "id": "NlrXB8uCKqOz"
    },
    {
      "cell_type": "code",
      "source": [
        "from qiskit import QuantumCircuit, transpile\n",
        "from qiskit_aer import AerSimulator\n",
        "\n",
        "sim = AerSimulator()\n",
        "qc = QuantumCircuit(1, 1)\n",
        "\n",
        "# Removed H gate: X → S → T → RZ(0.5)\n",
        "qc.x(0)\n",
        "qc.s(0)\n",
        "qc.t(0)\n",
        "qc.rz(0.5, 0)\n",
        "\n",
        "qc.measure_all()\n",
        "\n",
        "print(\"Quantum Circuit (Without Hadamard):\")\n",
        "print(qc.draw())\n",
        "\n",
        "compiled = transpile(qc, sim)\n",
        "result = sim.run(compiled, shots=1024).result()\n",
        "counts = result.get_counts()\n",
        "\n",
        "print(\"\\nMeasurement Counts:\", counts)\n"
      ],
      "metadata": {
        "colab": {
          "base_uri": "https://localhost:8080/"
        },
        "id": "Sr_r7BZsKswu",
        "outputId": "21ef4ce3-9553-4b0d-b9a1-d62110b8ef3d"
      },
      "id": "Sr_r7BZsKswu",
      "execution_count": 4,
      "outputs": [
        {
          "output_type": "stream",
          "name": "stdout",
          "text": [
            "Quantum Circuit (Without Hadamard):\n",
            "        ┌───┐┌───┐┌───┐┌─────────┐ ░ ┌─┐\n",
            "     q: ┤ X ├┤ S ├┤ T ├┤ Rz(0.5) ├─░─┤M├\n",
            "        └───┘└───┘└───┘└─────────┘ ░ └╥┘\n",
            "   c: 1/══════════════════════════════╬═\n",
            "                                      ║ \n",
            "meas: 1/══════════════════════════════╩═\n",
            "                                      0 \n",
            "\n",
            "Measurement Counts: {'1 0': 1024}\n"
          ]
        }
      ]
    },
    {
      "cell_type": "code",
      "source": [],
      "metadata": {
        "id": "K0FbYndEpE3e"
      },
      "id": "K0FbYndEpE3e",
      "execution_count": null,
      "outputs": []
    }
  ],
  "metadata": {
    "kernelspec": {
      "display_name": "Python 3",
      "language": "python",
      "name": "python3"
    },
    "language_info": {
      "name": "python",
      "version": "3.10"
    },
    "colab": {
      "provenance": [],
      "toc_visible": true
    }
  },
  "nbformat": 4,
  "nbformat_minor": 5
}