{
  "cells": [
    {
      "cell_type": "markdown",
      "metadata": {
        "id": "X2W5OpxSv-y2"
      },
      "source": [],
      "id": "X2W5OpxSv-y2"
    },
    {
      "cell_type": "markdown",
      "source": [
        "# **22MIS0123 HEMA DARSHINI R**"
      ],
      "metadata": {
        "id": "5F7cFjRlSFGd"
      },
      "id": "5F7cFjRlSFGd"
    },
    {
      "cell_type": "markdown",
      "source": [
        "# **Base Circuit**"
      ],
      "metadata": {
        "id": "z3PfskuLSLMO"
      },
      "id": "z3PfskuLSLMO"
    },
    {
      "cell_type": "code",
      "metadata": {
        "id": "NOQIWRacv-y3",
        "colab": {
          "base_uri": "https://localhost:8080/"
        },
        "outputId": "94a06e13-48d6-4d55-a943-f3825fa490cc"
      },
      "source": [
        "!pip install qiskit --quiet\n",
        "!pip install qiskit-aer --quiet\n",
        "\n",
        "# Base Circuit: Single Qubit Gate Sequence\n",
        "from qiskit import QuantumCircuit, transpile\n",
        "from qiskit_aer import AerSimulator\n",
        "\n",
        "# Initialize simulator\n",
        "sim = AerSimulator()\n",
        "\n",
        "# Create a single-qubit circuit with one classical bit\n",
        "qc = QuantumCircuit(1, 1)\n",
        "\n",
        "# Apply gates: X → H → S → T → RZ(0.5)\n",
        "qc.x(0)\n",
        "qc.h(0)\n",
        "qc.s(0)\n",
        "qc.t(0)\n",
        "qc.rz(0.5, 0)\n",
        "\n",
        "# Measure\n",
        "qc.measure_all()\n",
        "\n",
        "# Display circuit\n",
        "print(\"Quantum Circuit:\")\n",
        "print(qc.draw())\n",
        "\n",
        "# Run simulation\n",
        "compiled = transpile(qc, sim)\n",
        "result = sim.run(compiled, shots=1024).result()\n",
        "counts = result.get_counts()\n",
        "\n",
        "# Show result\n",
        "print(\"\\nMeasurement Counts:\", counts)\n"
      ],
      "execution_count": null,
      "outputs": [
        {
          "output_type": "stream",
          "name": "stdout",
          "text": [
            "Quantum Circuit:\n",
            "        ┌───┐┌───┐┌───┐┌───┐┌─────────┐ ░ ┌─┐\n",
            "     q: ┤ X ├┤ H ├┤ S ├┤ T ├┤ Rz(0.5) ├─░─┤M├\n",
            "        └───┘└───┘└───┘└───┘└─────────┘ ░ └╥┘\n",
            "   c: 1/═══════════════════════════════════╬═\n",
            "                                           ║ \n",
            "meas: 1/═══════════════════════════════════╩═\n",
            "                                           0 \n",
            "\n",
            "Measurement Counts: {'0 0': 516, '1 0': 508}\n"
          ]
        }
      ],
      "id": "NOQIWRacv-y3"
    },
    {
      "cell_type": "markdown",
      "metadata": {
        "id": "B_QEU5O6v-y4"
      },
      "source": [
        "# **Task 1: Change Gate Order**\n",
        "\n"
      ],
      "id": "B_QEU5O6v-y4"
    },
    {
      "cell_type": "code",
      "metadata": {
        "id": "mPhcfNBxv-y5",
        "colab": {
          "base_uri": "https://localhost:8080/"
        },
        "outputId": "5f4c1700-f790-4cef-a280-31d4f5f63653"
      },
      "source": [
        "from qiskit import QuantumCircuit, transpile\n",
        "from qiskit_aer import AerSimulator\n",
        "\n",
        "sim = AerSimulator()\n",
        "qc = QuantumCircuit(1, 1)\n",
        "\n",
        "# Swapped order: H → X → S → T → RZ(0.5)\n",
        "qc.h(0)\n",
        "qc.x(0)\n",
        "qc.s(0)\n",
        "qc.t(0)\n",
        "qc.rz(0.5, 0)\n",
        "\n",
        "qc.measure_all()\n",
        "\n",
        "print(\"Quantum Circuit (H then X):\")\n",
        "print(qc.draw())\n",
        "\n",
        "compiled = transpile(qc, sim)\n",
        "result = sim.run(compiled, shots=1024).result()\n",
        "counts = result.get_counts()\n",
        "\n",
        "print(\"\\nMeasurement Counts:\", counts)\n"
      ],
      "execution_count": null,
      "outputs": [
        {
          "output_type": "stream",
          "name": "stdout",
          "text": [
            "Quantum Circuit (H then X):\n",
            "        ┌───┐┌───┐┌───┐┌───┐┌─────────┐ ░ ┌─┐\n",
            "     q: ┤ H ├┤ X ├┤ S ├┤ T ├┤ Rz(0.5) ├─░─┤M├\n",
            "        └───┘└───┘└───┘└───┘└─────────┘ ░ └╥┘\n",
            "   c: 1/═══════════════════════════════════╬═\n",
            "                                           ║ \n",
            "meas: 1/═══════════════════════════════════╩═\n",
            "                                           0 \n",
            "\n",
            "Measurement Counts: {'1 0': 526, '0 0': 498}\n"
          ]
        }
      ],
      "id": "mPhcfNBxv-y5"
    },
    {
      "cell_type": "markdown",
      "source": [
        "# **Task 2: Vary Rotation Angle**"
      ],
      "metadata": {
        "id": "eQ-x5QvwKge2"
      },
      "id": "eQ-x5QvwKge2"
    },
    {
      "cell_type": "code",
      "source": [
        "import math\n",
        "from qiskit import QuantumCircuit, transpile\n",
        "from qiskit_aer import AerSimulator\n",
        "\n",
        "sim = AerSimulator()\n",
        "\n",
        "for theta in [math.pi/4, math.pi/2, math.pi]:\n",
        "    qc = QuantumCircuit(1, 1)\n",
        "    qc.x(0)\n",
        "    qc.h(0)\n",
        "    qc.s(0)\n",
        "    qc.t(0)\n",
        "    qc.rz(theta, 0)\n",
        "    qc.measure_all()\n",
        "\n",
        "    compiled = transpile(qc, sim)\n",
        "    result = sim.run(compiled, shots=1024).result()\n",
        "    counts = result.get_counts()\n",
        "\n",
        "    print(f\"\\nRotation Angle θ = {theta:.2f} radians\")\n",
        "    print(\"Measurement Counts:\", counts)\n"
      ],
      "metadata": {
        "colab": {
          "base_uri": "https://localhost:8080/"
        },
        "id": "HdE3TwqCKjQg",
        "outputId": "fdb68193-accb-46c5-9d6d-b2f32b5c7732"
      },
      "id": "HdE3TwqCKjQg",
      "execution_count": null,
      "outputs": [
        {
          "output_type": "stream",
          "name": "stdout",
          "text": [
            "\n",
            "Rotation Angle θ = 0.79 radians\n",
            "Measurement Counts: {'1 0': 494, '0 0': 530}\n",
            "\n",
            "Rotation Angle θ = 1.57 radians\n",
            "Measurement Counts: {'0 0': 524, '1 0': 500}\n",
            "\n",
            "Rotation Angle θ = 3.14 radians\n",
            "Measurement Counts: {'0 0': 518, '1 0': 506}\n"
          ]
        }
      ]
    },
    {
      "cell_type": "markdown",
      "source": [
        "# **Task 3: Remove a Gate (Hadamard)**"
      ],
      "metadata": {
        "id": "NlrXB8uCKqOz"
      },
      "id": "NlrXB8uCKqOz"
    },
    {
      "cell_type": "code",
      "source": [
        "from qiskit import QuantumCircuit, transpile\n",
        "from qiskit_aer import AerSimulator\n",
        "\n",
        "sim = AerSimulator()\n",
        "qc = QuantumCircuit(1, 1)\n",
        "\n",
        "# Removed H gate: X → S → T → RZ(0.5)\n",
        "qc.x(0)\n",
        "qc.s(0)\n",
        "qc.t(0)\n",
        "qc.rz(0.5, 0)\n",
        "\n",
        "qc.measure_all()\n",
        "\n",
        "print(\"Quantum Circuit (Without Hadamard):\")\n",
        "print(qc.draw())\n",
        "\n",
        "compiled = transpile(qc, sim)\n",
        "result = sim.run(compiled, shots=1024).result()\n",
        "counts = result.get_counts()\n",
        "\n",
        "print(\"\\nMeasurement Counts:\", counts)\n"
      ],
      "metadata": {
        "colab": {
          "base_uri": "https://localhost:8080/"
        },
        "id": "Sr_r7BZsKswu",
        "outputId": "f8bdb7e6-21d1-4f1b-b889-5f03e8301a98"
      },
      "id": "Sr_r7BZsKswu",
      "execution_count": null,
      "outputs": [
        {
          "output_type": "stream",
          "name": "stdout",
          "text": [
            "Quantum Circuit (Without Hadamard):\n",
            "        ┌───┐┌───┐┌───┐┌─────────┐ ░ ┌─┐\n",
            "     q: ┤ X ├┤ S ├┤ T ├┤ Rz(0.5) ├─░─┤M├\n",
            "        └───┘└───┘└───┘└─────────┘ ░ └╥┘\n",
            "   c: 1/══════════════════════════════╬═\n",
            "                                      ║ \n",
            "meas: 1/══════════════════════════════╩═\n",
            "                                      0 \n",
            "\n",
            "Measurement Counts: {'1 0': 1024}\n"
          ]
        }
      ]
    }
  ],
  "metadata": {
    "kernelspec": {
      "display_name": "Python 3",
      "language": "python",
      "name": "python3"
    },
    "language_info": {
      "name": "python",
      "version": "3.10"
    },
    "colab": {
      "provenance": []
    }
  },
  "nbformat": 4,
  "nbformat_minor": 5
}